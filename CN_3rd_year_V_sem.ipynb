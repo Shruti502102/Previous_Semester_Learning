{
  "nbformat": 4,
  "nbformat_minor": 0,
  "metadata": {
    "colab": {
      "provenance": []
    },
    "kernelspec": {
      "name": "python3",
      "display_name": "Python 3"
    },
    "language_info": {
      "name": "python"
    }
  },
  "cells": [
    {
      "cell_type": "markdown",
      "source": [
        "# **10/9/24**"
      ],
      "metadata": {
        "id": "MKjuiHYCcp3G"
      }
    },
    {
      "cell_type": "markdown",
      "source": [
        "**experiment-2**\n",
        "Bit stuffing"
      ],
      "metadata": {
        "id": "cJHcAxJ5c0SF"
      }
    },
    {
      "cell_type": "code",
      "execution_count": null,
      "metadata": {
        "id": "HH0km6NWciwJ"
      },
      "outputs": [],
      "source": [
        "def bit_unstuff(data):\n",
        "    unstuffed_data = ''\n",
        "    count = 0\n",
        "\n",
        "    i = 0\n",
        "    while i < len(data):\n",
        "        bit = data[i]\n",
        "        unstuffed_data += bit\n",
        "        if bit == '1':\n",
        "            count += 1\n",
        "        else:\n",
        "            count = 0\n",
        "\n",
        "        if count == 5:\n",
        "            # Check if the next bit is a stuffed '0'\n",
        "            if i + 1 < len(data) and data[i + 1] == '0':\n",
        "                i += 1  # Skip the stuffed '0'\n",
        "            count = 0\n",
        "\n",
        "        i += 1\n",
        "\n",
        "    return unstuffed_data\n",
        "\n",
        "# Get user input\n",
        "user_input = input(\"Enter a binary string to unstuff (only '0' and '1'): \").strip()\n",
        "\n",
        "# Validate input\n",
        "if not all(bit in '01' for bit in user_input):\n",
        "    print(\"Invalid input. Please enter a binary string containing only '0' and '1'.\")\n",
        "else:\n",
        "    unstuffed = bit_unstuff(user_input)\n",
        "    print(f\"Original Data: {user_input}\")\n",
        "    print(f\"Unstuffed Data: {unstuffed}\")\n"
      ]
    },
    {
      "cell_type": "markdown",
      "source": [
        "# **22/10/24**"
      ],
      "metadata": {
        "id": "Yqwj47j-2eBu"
      }
    },
    {
      "cell_type": "code",
      "source": [
        "import socket\n",
        "host_name=socket.gethostname()\n",
        "print(host_name)\n",
        "ip_address=socket.gethostbyname(host_name)\n",
        "print(ip_address)"
      ],
      "metadata": {
        "colab": {
          "base_uri": "https://localhost:8080/"
        },
        "id": "_2dr6IEu2mId",
        "outputId": "9a6f8fa9-6fc6-46a5-8519-208f469a420e"
      },
      "execution_count": null,
      "outputs": [
        {
          "output_type": "stream",
          "name": "stdout",
          "text": [
            "284e54dfa1a0\n",
            "172.28.0.12\n"
          ]
        }
      ]
    },
    {
      "cell_type": "code",
      "source": [
        "url=input(\"Enter website domain name:       \"                                                                                                                                                                                           )\n",
        "ip_address=socket.gethostbyname(url)\n",
        "print(ip_address)\n"
      ],
      "metadata": {
        "colab": {
          "base_uri": "https://localhost:8080/"
        },
        "id": "FuohQQyD3sZO",
        "outputId": "8c1e19d1-87b8-4f60-ab24-adfe404c1c41"
      },
      "execution_count": null,
      "outputs": [
        {
          "output_type": "stream",
          "name": "stdout",
          "text": [
            "Enter website domain name: www.google.com\n",
            "173.194.217.106\n"
          ]
        }
      ]
    },
    {
      "cell_type": "code",
      "source": [
        "import socket\n",
        "host_name=socket.gethostname()\n",
        "print(host_name)\n",
        "ip_address=socket.gethostbyname(host_name)\n",
        "print(ip_address)"
      ],
      "metadata": {
        "id": "Hrx7vPiUMWFD",
        "outputId": "652a288c-15cb-4467-d448-04034c89de18",
        "colab": {
          "base_uri": "https://localhost:8080/"
        }
      },
      "execution_count": null,
      "outputs": [
        {
          "output_type": "stream",
          "name": "stdout",
          "text": [
            "420ff0e99e06\n",
            "172.28.0.12\n"
          ]
        }
      ]
    }
  ]
}